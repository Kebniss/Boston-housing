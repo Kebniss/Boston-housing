{
 "cells": [
  {
   "cell_type": "code",
   "execution_count": 1,
   "metadata": {
    "collapsed": true
   },
   "outputs": [],
   "source": [
    "import numpy as np\n",
    "import pandas as pd"
   ]
  },
  {
   "cell_type": "code",
   "execution_count": 31,
   "metadata": {
    "collapsed": true
   },
   "outputs": [],
   "source": [
    "nums = np.arange(1, 121, 1)"
   ]
  },
  {
   "cell_type": "code",
   "execution_count": 32,
   "metadata": {
    "collapsed": false
   },
   "outputs": [
    {
     "data": {
      "text/plain": [
       "array([  1,   2,   3,   4,   5,   6,   7,   8,   9,  10,  11,  12,  13,\n",
       "        14,  15,  16,  17,  18,  19,  20,  21,  22,  23,  24,  25,  26,\n",
       "        27,  28,  29,  30,  31,  32,  33,  34,  35,  36,  37,  38,  39,\n",
       "        40,  41,  42,  43,  44,  45,  46,  47,  48,  49,  50,  51,  52,\n",
       "        53,  54,  55,  56,  57,  58,  59,  60,  61,  62,  63,  64,  65,\n",
       "        66,  67,  68,  69,  70,  71,  72,  73,  74,  75,  76,  77,  78,\n",
       "        79,  80,  81,  82,  83,  84,  85,  86,  87,  88,  89,  90,  91,\n",
       "        92,  93,  94,  95,  96,  97,  98,  99, 100, 101, 102, 103, 104,\n",
       "       105, 106, 107, 108, 109, 110, 111, 112, 113, 114, 115, 116, 117,\n",
       "       118, 119, 120])"
      ]
     },
     "execution_count": 32,
     "metadata": {},
     "output_type": "execute_result"
    }
   ],
   "source": [
    "nums"
   ]
  },
  {
   "cell_type": "code",
   "execution_count": 33,
   "metadata": {
    "collapsed": true
   },
   "outputs": [],
   "source": [
    "np.random.shuffle(nums)"
   ]
  },
  {
   "cell_type": "code",
   "execution_count": 34,
   "metadata": {
    "collapsed": true
   },
   "outputs": [],
   "source": [
    "othernums = np.arange(1, 121, 1)\n",
    "np.random.shuffle(othernums)"
   ]
  },
  {
   "cell_type": "code",
   "execution_count": 35,
   "metadata": {
    "collapsed": false
   },
   "outputs": [
    {
     "data": {
      "text/plain": [
       "120"
      ]
     },
     "execution_count": 35,
     "metadata": {},
     "output_type": "execute_result"
    }
   ],
   "source": [
    "np.size(nums)"
   ]
  },
  {
   "cell_type": "code",
   "execution_count": 36,
   "metadata": {
    "collapsed": false
   },
   "outputs": [
    {
     "data": {
      "text/plain": [
       "array([100, 108, 113,  81,  89,  76,  51,  12, 120,  91,  84,   6,  87,\n",
       "        46,  20,  72,  71,  49,  64,  14,  17,  21,  50,  92, 116,  80,\n",
       "        60, 104,  44,  26, 115,  58,  22,  70,  65,  18,  42,   9,  43,\n",
       "        55,  78, 118,  82,  99,  59,   8,  90,  52,  85,  98,  97,  63,\n",
       "        41, 101,  45,  34,   5,  96,  11, 111,  29,  13,  37,  23,  28,\n",
       "        94,   1,  68,  75,  66,  93, 109,  19,  67,  79,  31,  47, 107,\n",
       "        69,  54, 117,  10,  61,  27,  32,  73,  57,  25,  88, 119,  40,\n",
       "        77,  15,  16,  48,   7,  24,   3, 106, 112,   4,  74,  83, 114,\n",
       "        86,  30,  38,  95, 103,  53,  39,  33, 105,  36,   2,  62,  56,\n",
       "       110,  35, 102])"
      ]
     },
     "execution_count": 36,
     "metadata": {},
     "output_type": "execute_result"
    }
   ],
   "source": [
    "othernums"
   ]
  },
  {
   "cell_type": "code",
   "execution_count": 37,
   "metadata": {
    "collapsed": false
   },
   "outputs": [],
   "source": [
    "first = nums.reshape((10, 12))"
   ]
  },
  {
   "cell_type": "code",
   "execution_count": 38,
   "metadata": {
    "collapsed": true
   },
   "outputs": [],
   "source": [
    "second = othernums.reshape((10, 12))"
   ]
  },
  {
   "cell_type": "code",
   "execution_count": 39,
   "metadata": {
    "collapsed": false
   },
   "outputs": [
    {
     "data": {
      "text/plain": [
       "array([[107,  37,  52, 102,  46,  93,  11,   3,   8,  26,  32,  66],\n",
       "       [ 24,  47,  75,  15, 113,  51,  61,  77,  95, 114,  25, 103],\n",
       "       [  9,  70,  92,  49,  44,  76,  56,  28,  63,  57,  72,  94],\n",
       "       [120,   4,  99,  17,  19,  88, 116,  69,  58, 115,  82, 104],\n",
       "       [ 80, 110,  14,  98,   2,  41,  48,  96,  30, 117, 118,  34],\n",
       "       [ 81,  64,  10,  12,  36, 119,   1, 100,  13,  16,  53,  87],\n",
       "       [ 33,  45, 106,  65,  90,  89,  71,  38,  43, 109,  18,  54],\n",
       "       [ 50, 111,  55, 112,  60,  59, 108,  22,   6,  35, 101,  68],\n",
       "       [ 79,  40,   5,  86,   7,  39,  23,  97,  78,  27,  29,  67],\n",
       "       [ 84,  85,  62, 105,  31,  91,  73,  74,  20,  83,  42,  21]])"
      ]
     },
     "execution_count": 39,
     "metadata": {},
     "output_type": "execute_result"
    }
   ],
   "source": [
    "first"
   ]
  },
  {
   "cell_type": "code",
   "execution_count": 40,
   "metadata": {
    "collapsed": false
   },
   "outputs": [
    {
     "data": {
      "text/plain": [
       "array([[100, 108, 113,  81,  89,  76,  51,  12, 120,  91,  84,   6],\n",
       "       [ 87,  46,  20,  72,  71,  49,  64,  14,  17,  21,  50,  92],\n",
       "       [116,  80,  60, 104,  44,  26, 115,  58,  22,  70,  65,  18],\n",
       "       [ 42,   9,  43,  55,  78, 118,  82,  99,  59,   8,  90,  52],\n",
       "       [ 85,  98,  97,  63,  41, 101,  45,  34,   5,  96,  11, 111],\n",
       "       [ 29,  13,  37,  23,  28,  94,   1,  68,  75,  66,  93, 109],\n",
       "       [ 19,  67,  79,  31,  47, 107,  69,  54, 117,  10,  61,  27],\n",
       "       [ 32,  73,  57,  25,  88, 119,  40,  77,  15,  16,  48,   7],\n",
       "       [ 24,   3, 106, 112,   4,  74,  83, 114,  86,  30,  38,  95],\n",
       "       [103,  53,  39,  33, 105,  36,   2,  62,  56, 110,  35, 102]])"
      ]
     },
     "execution_count": 40,
     "metadata": {},
     "output_type": "execute_result"
    }
   ],
   "source": [
    "second"
   ]
  },
  {
   "cell_type": "code",
   "execution_count": null,
   "metadata": {
    "collapsed": true
   },
   "outputs": [],
   "source": []
  }
 ],
 "metadata": {
  "kernelspec": {
   "display_name": "Python 2",
   "language": "python",
   "name": "python2"
  },
  "language_info": {
   "codemirror_mode": {
    "name": "ipython",
    "version": 2
   },
   "file_extension": ".py",
   "mimetype": "text/x-python",
   "name": "python",
   "nbconvert_exporter": "python",
   "pygments_lexer": "ipython2",
   "version": "2.7.11"
  }
 },
 "nbformat": 4,
 "nbformat_minor": 0
}
